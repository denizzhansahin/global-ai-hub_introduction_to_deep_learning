{
  "nbformat": 4,
  "nbformat_minor": 0,
  "metadata": {
    "colab": {
      "provenance": []
    },
    "kernelspec": {
      "name": "python3",
      "display_name": "Python 3"
    },
    "language_info": {
      "name": "python"
    },
    "accelerator": "GPU"
  },
  "cells": [
    {
      "cell_type": "code",
      "execution_count": 1,
      "metadata": {
        "id": "LAVnCH2RhWBS"
      },
      "outputs": [],
      "source": [
        "import tensorflow as tf\n",
        "import numpy as np\n",
        "import matplotlib.pyplot as plt"
      ]
    },
    {
      "cell_type": "code",
      "source": [
        "(X_train, y_train), (X_test, y_test) = tf.keras.datasets.cifar10.load_data()"
      ],
      "metadata": {
        "colab": {
          "base_uri": "https://localhost:8080/"
        },
        "id": "zWLKRySgi8Aa",
        "outputId": "09b4e7b5-8a2c-452c-e7a6-8f0fd2326aed"
      },
      "execution_count": 2,
      "outputs": [
        {
          "output_type": "stream",
          "name": "stdout",
          "text": [
            "Downloading data from https://www.cs.toronto.edu/~kriz/cifar-10-python.tar.gz\n",
            "170500096/170498071 [==============================] - 6s 0us/step\n",
            "170508288/170498071 [==============================] - 6s 0us/step\n"
          ]
        }
      ]
    },
    {
      "cell_type": "code",
      "source": [
        "print(f\"X_train: {len(X_train)}\")\n",
        "print(f\"X_test: {len(X_test)}\")\n",
        "print(f\"y_train: {len(y_train)}\")\n",
        "print(f\"y_test: {len(y_test)}\")\n",
        "print(\"x train\")\n",
        "print(X_train)\n",
        "print(\"x test\")\n",
        "print(X_test)\n",
        "print(\"y train\")\n",
        "print(y_train)\n",
        "print(\"y test\")\n",
        "print(y_test)"
      ],
      "metadata": {
        "colab": {
          "base_uri": "https://localhost:8080/"
        },
        "id": "WefdkufVjg7a",
        "outputId": "a256e132-42c1-48b2-c8df-ac0366e82afc"
      },
      "execution_count": 3,
      "outputs": [
        {
          "output_type": "stream",
          "name": "stdout",
          "text": [
            "X_train: 50000\n",
            "X_test: 10000\n",
            "y_train: 50000\n",
            "y_test: 10000\n",
            "x train\n",
            "[[[[ 59  62  63]\n",
            "   [ 43  46  45]\n",
            "   [ 50  48  43]\n",
            "   ...\n",
            "   [158 132 108]\n",
            "   [152 125 102]\n",
            "   [148 124 103]]\n",
            "\n",
            "  [[ 16  20  20]\n",
            "   [  0   0   0]\n",
            "   [ 18   8   0]\n",
            "   ...\n",
            "   [123  88  55]\n",
            "   [119  83  50]\n",
            "   [122  87  57]]\n",
            "\n",
            "  [[ 25  24  21]\n",
            "   [ 16   7   0]\n",
            "   [ 49  27   8]\n",
            "   ...\n",
            "   [118  84  50]\n",
            "   [120  84  50]\n",
            "   [109  73  42]]\n",
            "\n",
            "  ...\n",
            "\n",
            "  [[208 170  96]\n",
            "   [201 153  34]\n",
            "   [198 161  26]\n",
            "   ...\n",
            "   [160 133  70]\n",
            "   [ 56  31   7]\n",
            "   [ 53  34  20]]\n",
            "\n",
            "  [[180 139  96]\n",
            "   [173 123  42]\n",
            "   [186 144  30]\n",
            "   ...\n",
            "   [184 148  94]\n",
            "   [ 97  62  34]\n",
            "   [ 83  53  34]]\n",
            "\n",
            "  [[177 144 116]\n",
            "   [168 129  94]\n",
            "   [179 142  87]\n",
            "   ...\n",
            "   [216 184 140]\n",
            "   [151 118  84]\n",
            "   [123  92  72]]]\n",
            "\n",
            "\n",
            " [[[154 177 187]\n",
            "   [126 137 136]\n",
            "   [105 104  95]\n",
            "   ...\n",
            "   [ 91  95  71]\n",
            "   [ 87  90  71]\n",
            "   [ 79  81  70]]\n",
            "\n",
            "  [[140 160 169]\n",
            "   [145 153 154]\n",
            "   [125 125 118]\n",
            "   ...\n",
            "   [ 96  99  78]\n",
            "   [ 77  80  62]\n",
            "   [ 71  73  61]]\n",
            "\n",
            "  [[140 155 164]\n",
            "   [139 146 149]\n",
            "   [115 115 112]\n",
            "   ...\n",
            "   [ 79  82  64]\n",
            "   [ 68  70  55]\n",
            "   [ 67  69  55]]\n",
            "\n",
            "  ...\n",
            "\n",
            "  [[175 167 166]\n",
            "   [156 154 160]\n",
            "   [154 160 170]\n",
            "   ...\n",
            "   [ 42  34  36]\n",
            "   [ 61  53  57]\n",
            "   [ 93  83  91]]\n",
            "\n",
            "  [[165 154 128]\n",
            "   [156 152 130]\n",
            "   [159 161 142]\n",
            "   ...\n",
            "   [103  93  96]\n",
            "   [123 114 120]\n",
            "   [131 121 131]]\n",
            "\n",
            "  [[163 148 120]\n",
            "   [158 148 122]\n",
            "   [163 156 133]\n",
            "   ...\n",
            "   [143 133 139]\n",
            "   [143 134 142]\n",
            "   [143 133 144]]]\n",
            "\n",
            "\n",
            " [[[255 255 255]\n",
            "   [253 253 253]\n",
            "   [253 253 253]\n",
            "   ...\n",
            "   [253 253 253]\n",
            "   [253 253 253]\n",
            "   [253 253 253]]\n",
            "\n",
            "  [[255 255 255]\n",
            "   [255 255 255]\n",
            "   [255 255 255]\n",
            "   ...\n",
            "   [255 255 255]\n",
            "   [255 255 255]\n",
            "   [255 255 255]]\n",
            "\n",
            "  [[255 255 255]\n",
            "   [254 254 254]\n",
            "   [254 254 254]\n",
            "   ...\n",
            "   [254 254 254]\n",
            "   [254 254 254]\n",
            "   [254 254 254]]\n",
            "\n",
            "  ...\n",
            "\n",
            "  [[113 120 112]\n",
            "   [111 118 111]\n",
            "   [105 112 106]\n",
            "   ...\n",
            "   [ 72  81  80]\n",
            "   [ 72  80  79]\n",
            "   [ 72  80  79]]\n",
            "\n",
            "  [[111 118 110]\n",
            "   [104 111 104]\n",
            "   [ 99 106  98]\n",
            "   ...\n",
            "   [ 68  75  73]\n",
            "   [ 70  76  75]\n",
            "   [ 78  84  82]]\n",
            "\n",
            "  [[106 113 105]\n",
            "   [ 99 106  98]\n",
            "   [ 95 102  94]\n",
            "   ...\n",
            "   [ 78  85  83]\n",
            "   [ 79  85  83]\n",
            "   [ 80  86  84]]]\n",
            "\n",
            "\n",
            " ...\n",
            "\n",
            "\n",
            " [[[ 35 178 235]\n",
            "   [ 40 176 239]\n",
            "   [ 42 176 241]\n",
            "   ...\n",
            "   [ 99 177 219]\n",
            "   [ 79 147 197]\n",
            "   [ 89 148 189]]\n",
            "\n",
            "  [[ 57 182 234]\n",
            "   [ 44 184 250]\n",
            "   [ 50 183 240]\n",
            "   ...\n",
            "   [156 182 200]\n",
            "   [141 177 206]\n",
            "   [116 149 175]]\n",
            "\n",
            "  [[ 98 197 237]\n",
            "   [ 64 189 252]\n",
            "   [ 69 192 245]\n",
            "   ...\n",
            "   [188 195 206]\n",
            "   [119 135 147]\n",
            "   [ 61  79  90]]\n",
            "\n",
            "  ...\n",
            "\n",
            "  [[ 73  79  77]\n",
            "   [ 53  63  68]\n",
            "   [ 54  68  80]\n",
            "   ...\n",
            "   [ 17  40  64]\n",
            "   [ 21  36  51]\n",
            "   [ 33  48  49]]\n",
            "\n",
            "  [[ 61  68  75]\n",
            "   [ 55  70  86]\n",
            "   [ 57  79 103]\n",
            "   ...\n",
            "   [ 24  48  72]\n",
            "   [ 17  35  53]\n",
            "   [  7  23  32]]\n",
            "\n",
            "  [[ 44  56  73]\n",
            "   [ 46  66  88]\n",
            "   [ 49  77 105]\n",
            "   ...\n",
            "   [ 27  52  77]\n",
            "   [ 21  43  66]\n",
            "   [ 12  31  50]]]\n",
            "\n",
            "\n",
            " [[[189 211 240]\n",
            "   [186 208 236]\n",
            "   [185 207 235]\n",
            "   ...\n",
            "   [175 195 224]\n",
            "   [172 194 222]\n",
            "   [169 194 220]]\n",
            "\n",
            "  [[194 210 239]\n",
            "   [191 207 236]\n",
            "   [190 206 235]\n",
            "   ...\n",
            "   [173 192 220]\n",
            "   [171 191 218]\n",
            "   [167 190 216]]\n",
            "\n",
            "  [[208 219 244]\n",
            "   [205 216 240]\n",
            "   [204 215 239]\n",
            "   ...\n",
            "   [175 191 217]\n",
            "   [172 190 216]\n",
            "   [169 191 215]]\n",
            "\n",
            "  ...\n",
            "\n",
            "  [[207 199 181]\n",
            "   [203 195 175]\n",
            "   [203 196 173]\n",
            "   ...\n",
            "   [135 132 127]\n",
            "   [162 158 150]\n",
            "   [168 163 151]]\n",
            "\n",
            "  [[198 190 170]\n",
            "   [189 181 159]\n",
            "   [180 172 147]\n",
            "   ...\n",
            "   [178 171 160]\n",
            "   [175 169 156]\n",
            "   [175 169 154]]\n",
            "\n",
            "  [[198 189 173]\n",
            "   [189 181 162]\n",
            "   [178 170 149]\n",
            "   ...\n",
            "   [195 184 169]\n",
            "   [196 189 171]\n",
            "   [195 190 171]]]\n",
            "\n",
            "\n",
            " [[[229 229 239]\n",
            "   [236 237 247]\n",
            "   [234 236 247]\n",
            "   ...\n",
            "   [217 219 233]\n",
            "   [221 223 234]\n",
            "   [222 223 233]]\n",
            "\n",
            "  [[222 221 229]\n",
            "   [239 239 249]\n",
            "   [233 234 246]\n",
            "   ...\n",
            "   [223 223 236]\n",
            "   [227 228 238]\n",
            "   [210 211 220]]\n",
            "\n",
            "  [[213 206 211]\n",
            "   [234 232 239]\n",
            "   [231 233 244]\n",
            "   ...\n",
            "   [220 220 232]\n",
            "   [220 219 232]\n",
            "   [202 203 215]]\n",
            "\n",
            "  ...\n",
            "\n",
            "  [[150 143 135]\n",
            "   [140 135 127]\n",
            "   [132 127 120]\n",
            "   ...\n",
            "   [224 222 218]\n",
            "   [230 228 225]\n",
            "   [241 241 238]]\n",
            "\n",
            "  [[137 132 126]\n",
            "   [130 127 120]\n",
            "   [125 121 115]\n",
            "   ...\n",
            "   [181 180 178]\n",
            "   [202 201 198]\n",
            "   [212 211 207]]\n",
            "\n",
            "  [[122 119 114]\n",
            "   [118 116 110]\n",
            "   [120 116 111]\n",
            "   ...\n",
            "   [179 177 173]\n",
            "   [164 164 162]\n",
            "   [163 163 161]]]]\n",
            "x test\n",
            "[[[[158 112  49]\n",
            "   [159 111  47]\n",
            "   [165 116  51]\n",
            "   ...\n",
            "   [137  95  36]\n",
            "   [126  91  36]\n",
            "   [116  85  33]]\n",
            "\n",
            "  [[152 112  51]\n",
            "   [151 110  40]\n",
            "   [159 114  45]\n",
            "   ...\n",
            "   [136  95  31]\n",
            "   [125  91  32]\n",
            "   [119  88  34]]\n",
            "\n",
            "  [[151 110  47]\n",
            "   [151 109  33]\n",
            "   [158 111  36]\n",
            "   ...\n",
            "   [139  98  34]\n",
            "   [130  95  34]\n",
            "   [120  89  33]]\n",
            "\n",
            "  ...\n",
            "\n",
            "  [[ 68 124 177]\n",
            "   [ 42 100 148]\n",
            "   [ 31  88 137]\n",
            "   ...\n",
            "   [ 38  97 146]\n",
            "   [ 13  64 108]\n",
            "   [ 40  85 127]]\n",
            "\n",
            "  [[ 61 116 168]\n",
            "   [ 49 102 148]\n",
            "   [ 35  85 132]\n",
            "   ...\n",
            "   [ 26  82 130]\n",
            "   [ 29  82 126]\n",
            "   [ 20  64 107]]\n",
            "\n",
            "  [[ 54 107 160]\n",
            "   [ 56 105 149]\n",
            "   [ 45  89 132]\n",
            "   ...\n",
            "   [ 24  77 124]\n",
            "   [ 34  84 129]\n",
            "   [ 21  67 110]]]\n",
            "\n",
            "\n",
            " [[[235 235 235]\n",
            "   [231 231 231]\n",
            "   [232 232 232]\n",
            "   ...\n",
            "   [233 233 233]\n",
            "   [233 233 233]\n",
            "   [232 232 232]]\n",
            "\n",
            "  [[238 238 238]\n",
            "   [235 235 235]\n",
            "   [235 235 235]\n",
            "   ...\n",
            "   [236 236 236]\n",
            "   [236 236 236]\n",
            "   [235 235 235]]\n",
            "\n",
            "  [[237 237 237]\n",
            "   [234 234 234]\n",
            "   [234 234 234]\n",
            "   ...\n",
            "   [235 235 235]\n",
            "   [235 235 235]\n",
            "   [234 234 234]]\n",
            "\n",
            "  ...\n",
            "\n",
            "  [[ 87  99  89]\n",
            "   [ 43  51  37]\n",
            "   [ 19  23  11]\n",
            "   ...\n",
            "   [169 184 179]\n",
            "   [182 197 193]\n",
            "   [188 202 201]]\n",
            "\n",
            "  [[ 82  96  82]\n",
            "   [ 46  57  36]\n",
            "   [ 36  44  22]\n",
            "   ...\n",
            "   [174 189 183]\n",
            "   [185 200 196]\n",
            "   [187 202 200]]\n",
            "\n",
            "  [[ 85 101  83]\n",
            "   [ 62  75  48]\n",
            "   [ 58  67  38]\n",
            "   ...\n",
            "   [168 183 178]\n",
            "   [180 195 191]\n",
            "   [186 200 199]]]\n",
            "\n",
            "\n",
            " [[[158 190 222]\n",
            "   [158 187 218]\n",
            "   [139 166 194]\n",
            "   ...\n",
            "   [228 231 234]\n",
            "   [237 239 243]\n",
            "   [238 241 246]]\n",
            "\n",
            "  [[170 200 229]\n",
            "   [172 199 226]\n",
            "   [151 176 201]\n",
            "   ...\n",
            "   [232 232 236]\n",
            "   [246 246 250]\n",
            "   [246 247 251]]\n",
            "\n",
            "  [[174 201 225]\n",
            "   [176 200 222]\n",
            "   [157 179 199]\n",
            "   ...\n",
            "   [230 229 232]\n",
            "   [250 249 251]\n",
            "   [245 244 247]]\n",
            "\n",
            "  ...\n",
            "\n",
            "  [[ 31  40  45]\n",
            "   [ 30  39  44]\n",
            "   [ 26  35  40]\n",
            "   ...\n",
            "   [ 37  40  46]\n",
            "   [  9  13  14]\n",
            "   [  4   7   5]]\n",
            "\n",
            "  [[ 23  34  39]\n",
            "   [ 27  38  43]\n",
            "   [ 25  36  41]\n",
            "   ...\n",
            "   [ 19  20  24]\n",
            "   [  4   6   3]\n",
            "   [  5   7   3]]\n",
            "\n",
            "  [[ 28  41  47]\n",
            "   [ 30  43  50]\n",
            "   [ 32  45  52]\n",
            "   ...\n",
            "   [  5   6   8]\n",
            "   [  4   5   3]\n",
            "   [  7   8   7]]]\n",
            "\n",
            "\n",
            " ...\n",
            "\n",
            "\n",
            " [[[ 20  15  12]\n",
            "   [ 19  14  11]\n",
            "   [ 15  14  11]\n",
            "   ...\n",
            "   [ 10   9   7]\n",
            "   [ 12  11   9]\n",
            "   [ 13  12  10]]\n",
            "\n",
            "  [[ 21  16  13]\n",
            "   [ 20  16  13]\n",
            "   [ 18  17  12]\n",
            "   ...\n",
            "   [ 10   9   7]\n",
            "   [ 10   9   7]\n",
            "   [ 12  11   9]]\n",
            "\n",
            "  [[ 21  16  13]\n",
            "   [ 21  17  12]\n",
            "   [ 20  18  11]\n",
            "   ...\n",
            "   [ 12  11   9]\n",
            "   [ 12  11   9]\n",
            "   [ 13  12  10]]\n",
            "\n",
            "  ...\n",
            "\n",
            "  [[ 33  25  13]\n",
            "   [ 34  26  15]\n",
            "   [ 34  26  15]\n",
            "   ...\n",
            "   [ 28  25  52]\n",
            "   [ 29  25  58]\n",
            "   [ 23  20  42]]\n",
            "\n",
            "  [[ 33  25  14]\n",
            "   [ 34  26  15]\n",
            "   [ 34  26  15]\n",
            "   ...\n",
            "   [ 27  24  52]\n",
            "   [ 27  24  56]\n",
            "   [ 25  22  47]]\n",
            "\n",
            "  [[ 31  23  12]\n",
            "   [ 32  24  13]\n",
            "   [ 33  25  14]\n",
            "   ...\n",
            "   [ 24  23  50]\n",
            "   [ 26  23  53]\n",
            "   [ 25  20  47]]]\n",
            "\n",
            "\n",
            " [[[ 25  40  12]\n",
            "   [ 15  36   3]\n",
            "   [ 23  41  18]\n",
            "   ...\n",
            "   [ 61  82  78]\n",
            "   [ 92 113 112]\n",
            "   [ 75  89  92]]\n",
            "\n",
            "  [[ 12  25   6]\n",
            "   [ 20  37   7]\n",
            "   [ 24  36  15]\n",
            "   ...\n",
            "   [115 134 138]\n",
            "   [149 168 177]\n",
            "   [104 117 131]]\n",
            "\n",
            "  [[ 12  25  11]\n",
            "   [ 15  29   6]\n",
            "   [ 34  40  24]\n",
            "   ...\n",
            "   [154 172 182]\n",
            "   [157 175 192]\n",
            "   [116 129 151]]\n",
            "\n",
            "  ...\n",
            "\n",
            "  [[100 129  81]\n",
            "   [103 132  84]\n",
            "   [104 134  86]\n",
            "   ...\n",
            "   [ 97 128  84]\n",
            "   [ 98 126  84]\n",
            "   [ 91 121  79]]\n",
            "\n",
            "  [[103 132  83]\n",
            "   [104 131  83]\n",
            "   [107 135  87]\n",
            "   ...\n",
            "   [101 132  87]\n",
            "   [ 99 127  84]\n",
            "   [ 92 121  79]]\n",
            "\n",
            "  [[ 95 126  78]\n",
            "   [ 95 123  76]\n",
            "   [101 128  81]\n",
            "   ...\n",
            "   [ 93 124  80]\n",
            "   [ 95 123  81]\n",
            "   [ 92 120  80]]]\n",
            "\n",
            "\n",
            " [[[ 73  78  75]\n",
            "   [ 98 103 113]\n",
            "   [ 99 106 114]\n",
            "   ...\n",
            "   [135 150 152]\n",
            "   [135 149 154]\n",
            "   [203 215 223]]\n",
            "\n",
            "  [[ 69  73  70]\n",
            "   [ 84  89  97]\n",
            "   [ 68  75  81]\n",
            "   ...\n",
            "   [ 85  95  89]\n",
            "   [ 71  82  80]\n",
            "   [120 133 135]]\n",
            "\n",
            "  [[ 69  73  70]\n",
            "   [ 90  95 100]\n",
            "   [ 62  71  74]\n",
            "   ...\n",
            "   [ 74  81  70]\n",
            "   [ 53  62  54]\n",
            "   [ 62  74  69]]\n",
            "\n",
            "  ...\n",
            "\n",
            "  [[123 128  96]\n",
            "   [132 132 102]\n",
            "   [129 128 100]\n",
            "   ...\n",
            "   [108 107  88]\n",
            "   [ 62  60  55]\n",
            "   [ 27  27  28]]\n",
            "\n",
            "  [[115 121  91]\n",
            "   [123 124  95]\n",
            "   [129 126  99]\n",
            "   ...\n",
            "   [115 116  94]\n",
            "   [ 66  65  59]\n",
            "   [ 27  27  27]]\n",
            "\n",
            "  [[116 120  90]\n",
            "   [121 122  94]\n",
            "   [129 128 101]\n",
            "   ...\n",
            "   [116 115  94]\n",
            "   [ 68  65  58]\n",
            "   [ 27  26  26]]]]\n",
            "y train\n",
            "[[6]\n",
            " [9]\n",
            " [9]\n",
            " ...\n",
            " [9]\n",
            " [1]\n",
            " [1]]\n",
            "y test\n",
            "[[3]\n",
            " [8]\n",
            " [8]\n",
            " ...\n",
            " [5]\n",
            " [1]\n",
            " [7]]\n"
          ]
        }
      ]
    },
    {
      "cell_type": "code",
      "source": [
        "print(X_test[789])"
      ],
      "metadata": {
        "colab": {
          "base_uri": "https://localhost:8080/"
        },
        "id": "uWSKRtfFkECp",
        "outputId": "c82815ca-31c6-4ecc-cce3-897a7e17835e"
      },
      "execution_count": 4,
      "outputs": [
        {
          "output_type": "stream",
          "name": "stdout",
          "text": [
            "[[[100 111 134]\n",
            "  [ 98 110 132]\n",
            "  [ 98 109 131]\n",
            "  ...\n",
            "  [ 69  89 114]\n",
            "  [ 67  87 113]\n",
            "  [ 66  86 111]]\n",
            "\n",
            " [[ 98 109 131]\n",
            "  [ 95 106 128]\n",
            "  [ 94 105 127]\n",
            "  ...\n",
            "  [ 65  85 110]\n",
            "  [ 64  84 109]\n",
            "  [ 63  83 107]]\n",
            "\n",
            " [[ 94 105 127]\n",
            "  [ 92 103 125]\n",
            "  [ 92 103 125]\n",
            "  ...\n",
            "  [ 63  83 108]\n",
            "  [ 62  82 107]\n",
            "  [ 60  80 105]]\n",
            "\n",
            " ...\n",
            "\n",
            " [[ 13  27  40]\n",
            "  [ 12  26  39]\n",
            "  [ 12  26  39]\n",
            "  ...\n",
            "  [  4   6  21]\n",
            "  [  5   7  22]\n",
            "  [  4   7  22]]\n",
            "\n",
            " [[ 12  24  38]\n",
            "  [ 14  26  39]\n",
            "  [  9  21  34]\n",
            "  ...\n",
            "  [  3   5  19]\n",
            "  [  3   5  20]\n",
            "  [  5   7  22]]\n",
            "\n",
            " [[ 14  23  34]\n",
            "  [ 12  21  31]\n",
            "  [  9  19  29]\n",
            "  ...\n",
            "  [  4   4  17]\n",
            "  [  4   5  18]\n",
            "  [  5   5  18]]]\n"
          ]
        }
      ]
    },
    {
      "cell_type": "code",
      "source": [
        "plt.imshow(X_test[789])\n",
        "plt.show()\n",
        "print(X_test[789].shape)"
      ],
      "metadata": {
        "colab": {
          "base_uri": "https://localhost:8080/",
          "height": 283
        },
        "id": "87hfsutpkfBR",
        "outputId": "99d4d18f-757e-4516-a33a-890c0bbe6932"
      },
      "execution_count": 5,
      "outputs": [
        {
          "output_type": "display_data",
          "data": {
            "text/plain": [
              "<Figure size 432x288 with 1 Axes>"
            ],
            "image/png": "[encoded data removed]"
          },
          "metadata": {
            "needs_background": "light"
          }
        },
        {
          "output_type": "stream",
          "name": "stdout",
          "text": [
            "(32, 32, 3)\n"
          ]
        }
      ]
    },
    {
      "cell_type": "code",
      "source": [
        "X_val = X_train[40000:]\n",
        "y_val = y_train[40000:]\n",
        "X_train = X_train[:40000]\n",
        "y_train = y_train[:40000]"
      ],
      "metadata": {
        "id": "w7KbSnnylSBf"
      },
      "execution_count": 6,
      "outputs": []
    },
    {
      "cell_type": "code",
      "source": [
        "print(f\"X_train: {len(X_train)}\")\n",
        "print(f\"X_val: {len(X_val)}\")\n",
        "print(f\"X_test: {len(X_test)}\")"
      ],
      "metadata": {
        "colab": {
          "base_uri": "https://localhost:8080/"
        },
        "id": "OwKHBvgVlui-",
        "outputId": "9c0e4772-7193-415e-9789-a19674065b66"
      },
      "execution_count": 7,
      "outputs": [
        {
          "output_type": "stream",
          "name": "stdout",
          "text": [
            "X_train: 40000\n",
            "X_val: 10000\n",
            "X_test: 10000\n"
          ]
        }
      ]
    },
    {
      "cell_type": "code",
      "source": [
        "X_train = X_train/255\n",
        "X_val = X_val/255\n",
        "X_test = X_test/255"
      ],
      "metadata": {
        "id": "rTphV99cmpSA"
      },
      "execution_count": 8,
      "outputs": []
    },
    {
      "cell_type": "code",
      "source": [
        "model = tf.keras.Sequential()"
      ],
      "metadata": {
        "id": "MOi_fN-dm2B1"
      },
      "execution_count": 9,
      "outputs": []
    },
    {
      "cell_type": "code",
      "source": [
        "model.add(tf.keras.layers.Conv2D(32,kernel_size=(3,3),strides=(1,1),padding=\"same\",\n",
        "                                 activation=\"relu\",\n",
        "                                 input_shape=(32,32,3)))\n",
        "model.add(tf.keras.layers.MaxPooling2D((2,2)))"
      ],
      "metadata": {
        "id": "IjDZq05lm8mX"
      },
      "execution_count": 10,
      "outputs": []
    },
    {
      "cell_type": "code",
      "source": [
        "model.add(tf.keras.layers.Conv2D(64,\n",
        "                                 kernel_size=(3,3),\n",
        "                                 strides=(1,1),\n",
        "                                 padding=\"same\",\n",
        "                                 activation=\"relu\"))\n",
        "model.add(tf.keras.layers.MaxPooling2D((2,2)))\n",
        "model.add(tf.keras.layers.Conv2D(64,\n",
        "                                 kernel_size=(3,3),\n",
        "                                 strides=(1,1),\n",
        "                                 padding=\"same\",\n",
        "                                 activation=\"relu\"))"
      ],
      "metadata": {
        "id": "gxtWo4WKn2PC"
      },
      "execution_count": 13,
      "outputs": []
    },
    {
      "cell_type": "code",
      "source": [
        "model.add(tf.keras.layers.Flatten())"
      ],
      "metadata": {
        "id": "_CHiYhOvpQKW"
      },
      "execution_count": 15,
      "outputs": []
    },
    {
      "cell_type": "code",
      "source": [
        "model.add(tf.keras.layers.Dense(64, activation=\"relu\"))\n",
        "model.add(tf.keras.layers.Dropout(0.5))\n",
        "model.add(tf.keras.layers.Dense(64, activation=\"relu\"))\n",
        "model.add(tf.keras.layers.Dropout(0.5))"
      ],
      "metadata": {
        "id": "jxlKuht5pdeR"
      },
      "execution_count": 16,
      "outputs": []
    },
    {
      "cell_type": "code",
      "source": [
        "model.add(tf.keras.layers.Dense(10,activation=\"softmax\"))"
      ],
      "metadata": {
        "id": "9vB48oonpzlB"
      },
      "execution_count": 17,
      "outputs": []
    },
    {
      "cell_type": "code",
      "source": [
        "model.compile(optimizer=\"adam\",\n",
        "              loss=\"sparse_categorical_crossentropy\",\n",
        "              metrics=[\"accuracy\"])"
      ],
      "metadata": {
        "id": "pZ1wbIy2qAAG"
      },
      "execution_count": 18,
      "outputs": []
    },
    {
      "cell_type": "code",
      "source": [
        "results = model.fit(X_train, y_train,batch_size=128,epochs=50,validation_data=(X_val,y_val))"
      ],
      "metadata": {
        "colab": {
          "base_uri": "https://localhost:8080/"
        },
        "id": "Tk3XlspLqV6f",
        "outputId": "7aed35bc-8678-48ec-d84b-58fd7d2baeac"
      },
      "execution_count": 19,
      "outputs": [
        {
          "output_type": "stream",
          "name": "stdout",
          "text": [
            "Epoch 1/50\n",
            "313/313 [==============================] - 16s 11ms/step - loss: 1.9952 - accuracy: 0.2386 - val_loss: 1.6372 - val_accuracy: 0.4099\n",
            "Epoch 2/50\n",
            "313/313 [==============================] - 3s 10ms/step - loss: 1.6754 - accuracy: 0.3669 - val_loss: 1.4051 - val_accuracy: 0.4856\n",
            "Epoch 3/50\n",
            "313/313 [==============================] - 3s 10ms/step - loss: 1.5157 - accuracy: 0.4372 - val_loss: 1.3111 - val_accuracy: 0.5351\n",
            "Epoch 4/50\n",
            "313/313 [==============================] - 3s 9ms/step - loss: 1.4047 - accuracy: 0.4853 - val_loss: 1.2101 - val_accuracy: 0.5756\n",
            "Epoch 5/50\n",
            "313/313 [==============================] - 3s 9ms/step - loss: 1.3065 - accuracy: 0.5258 - val_loss: 1.1000 - val_accuracy: 0.6140\n",
            "Epoch 6/50\n",
            "313/313 [==============================] - 3s 9ms/step - loss: 1.2331 - accuracy: 0.5561 - val_loss: 1.0499 - val_accuracy: 0.6334\n",
            "Epoch 7/50\n",
            "313/313 [==============================] - 3s 9ms/step - loss: 1.1564 - accuracy: 0.5862 - val_loss: 1.0131 - val_accuracy: 0.6434\n",
            "Epoch 8/50\n",
            "313/313 [==============================] - 3s 10ms/step - loss: 1.0930 - accuracy: 0.6119 - val_loss: 0.9622 - val_accuracy: 0.6647\n",
            "Epoch 9/50\n",
            "313/313 [==============================] - 3s 10ms/step - loss: 1.0521 - accuracy: 0.6275 - val_loss: 0.9622 - val_accuracy: 0.6620\n",
            "Epoch 10/50\n",
            "313/313 [==============================] - 3s 10ms/step - loss: 1.0018 - accuracy: 0.6466 - val_loss: 0.8950 - val_accuracy: 0.6902\n",
            "Epoch 11/50\n",
            "313/313 [==============================] - 3s 10ms/step - loss: 0.9634 - accuracy: 0.6622 - val_loss: 0.9057 - val_accuracy: 0.6896\n",
            "Epoch 12/50\n",
            "313/313 [==============================] - 3s 9ms/step - loss: 0.9281 - accuracy: 0.6719 - val_loss: 0.8940 - val_accuracy: 0.6967\n",
            "Epoch 13/50\n",
            "313/313 [==============================] - 3s 10ms/step - loss: 0.8853 - accuracy: 0.6878 - val_loss: 0.8901 - val_accuracy: 0.6977\n",
            "Epoch 14/50\n",
            "313/313 [==============================] - 3s 10ms/step - loss: 0.8487 - accuracy: 0.7030 - val_loss: 0.8770 - val_accuracy: 0.7146\n",
            "Epoch 15/50\n",
            "313/313 [==============================] - 3s 9ms/step - loss: 0.8257 - accuracy: 0.7098 - val_loss: 0.8866 - val_accuracy: 0.7053\n",
            "Epoch 16/50\n",
            "313/313 [==============================] - 3s 9ms/step - loss: 0.7897 - accuracy: 0.7229 - val_loss: 0.8995 - val_accuracy: 0.7004\n",
            "Epoch 17/50\n",
            "313/313 [==============================] - 3s 9ms/step - loss: 0.7556 - accuracy: 0.7361 - val_loss: 0.9072 - val_accuracy: 0.7062\n",
            "Epoch 18/50\n",
            "313/313 [==============================] - 3s 11ms/step - loss: 0.7508 - accuracy: 0.7365 - val_loss: 0.8723 - val_accuracy: 0.7161\n",
            "Epoch 19/50\n",
            "313/313 [==============================] - 3s 10ms/step - loss: 0.7132 - accuracy: 0.7484 - val_loss: 0.8823 - val_accuracy: 0.7173\n",
            "Epoch 20/50\n",
            "313/313 [==============================] - 3s 10ms/step - loss: 0.6973 - accuracy: 0.7550 - val_loss: 0.8957 - val_accuracy: 0.7175\n",
            "Epoch 21/50\n",
            "313/313 [==============================] - 3s 9ms/step - loss: 0.6804 - accuracy: 0.7600 - val_loss: 0.8739 - val_accuracy: 0.7176\n",
            "Epoch 22/50\n",
            "313/313 [==============================] - 3s 10ms/step - loss: 0.6625 - accuracy: 0.7676 - val_loss: 0.9563 - val_accuracy: 0.7071\n",
            "Epoch 23/50\n",
            "313/313 [==============================] - 3s 10ms/step - loss: 0.6438 - accuracy: 0.7738 - val_loss: 0.9399 - val_accuracy: 0.7112\n",
            "Epoch 24/50\n",
            "313/313 [==============================] - 3s 10ms/step - loss: 0.6241 - accuracy: 0.7789 - val_loss: 0.8948 - val_accuracy: 0.7209\n",
            "Epoch 25/50\n",
            "313/313 [==============================] - 3s 9ms/step - loss: 0.6121 - accuracy: 0.7821 - val_loss: 0.9632 - val_accuracy: 0.7165\n",
            "Epoch 26/50\n",
            "313/313 [==============================] - 3s 10ms/step - loss: 0.5989 - accuracy: 0.7908 - val_loss: 0.9366 - val_accuracy: 0.7193\n",
            "Epoch 27/50\n",
            "313/313 [==============================] - 3s 10ms/step - loss: 0.5686 - accuracy: 0.7987 - val_loss: 0.9724 - val_accuracy: 0.7241\n",
            "Epoch 28/50\n",
            "313/313 [==============================] - 3s 9ms/step - loss: 0.5666 - accuracy: 0.8002 - val_loss: 0.9831 - val_accuracy: 0.7150\n",
            "Epoch 29/50\n",
            "313/313 [==============================] - 3s 10ms/step - loss: 0.5531 - accuracy: 0.8064 - val_loss: 1.0360 - val_accuracy: 0.7100\n",
            "Epoch 30/50\n",
            "313/313 [==============================] - 3s 10ms/step - loss: 0.5385 - accuracy: 0.8105 - val_loss: 0.9732 - val_accuracy: 0.7271\n",
            "Epoch 31/50\n",
            "313/313 [==============================] - 4s 14ms/step - loss: 0.5264 - accuracy: 0.8141 - val_loss: 0.9918 - val_accuracy: 0.7286\n",
            "Epoch 32/50\n",
            "313/313 [==============================] - 4s 13ms/step - loss: 0.5102 - accuracy: 0.8188 - val_loss: 1.0222 - val_accuracy: 0.7266\n",
            "Epoch 33/50\n",
            "313/313 [==============================] - 4s 13ms/step - loss: 0.5152 - accuracy: 0.8176 - val_loss: 1.0061 - val_accuracy: 0.7242\n",
            "Epoch 34/50\n",
            "313/313 [==============================] - 4s 12ms/step - loss: 0.4893 - accuracy: 0.8267 - val_loss: 0.9991 - val_accuracy: 0.7234\n",
            "Epoch 35/50\n",
            "313/313 [==============================] - 3s 11ms/step - loss: 0.4813 - accuracy: 0.8296 - val_loss: 1.0464 - val_accuracy: 0.7232\n",
            "Epoch 36/50\n",
            "313/313 [==============================] - 4s 11ms/step - loss: 0.4870 - accuracy: 0.8291 - val_loss: 1.0281 - val_accuracy: 0.7341\n",
            "Epoch 37/50\n",
            "313/313 [==============================] - 4s 12ms/step - loss: 0.4649 - accuracy: 0.8360 - val_loss: 1.0604 - val_accuracy: 0.7223\n",
            "Epoch 38/50\n",
            "313/313 [==============================] - 3s 10ms/step - loss: 0.4548 - accuracy: 0.8393 - val_loss: 1.0689 - val_accuracy: 0.7269\n",
            "Epoch 39/50\n",
            "313/313 [==============================] - 4s 11ms/step - loss: 0.4516 - accuracy: 0.8399 - val_loss: 1.1103 - val_accuracy: 0.7231\n",
            "Epoch 40/50\n",
            "313/313 [==============================] - 3s 11ms/step - loss: 0.4522 - accuracy: 0.8432 - val_loss: 1.0536 - val_accuracy: 0.7300\n",
            "Epoch 41/50\n",
            "313/313 [==============================] - 3s 11ms/step - loss: 0.4341 - accuracy: 0.8477 - val_loss: 1.1468 - val_accuracy: 0.7268\n",
            "Epoch 42/50\n",
            "313/313 [==============================] - 4s 11ms/step - loss: 0.4249 - accuracy: 0.8520 - val_loss: 1.1617 - val_accuracy: 0.7214\n",
            "Epoch 43/50\n",
            "313/313 [==============================] - 4s 12ms/step - loss: 0.4314 - accuracy: 0.8477 - val_loss: 1.1393 - val_accuracy: 0.7314\n",
            "Epoch 44/50\n",
            "313/313 [==============================] - 4s 12ms/step - loss: 0.4123 - accuracy: 0.8556 - val_loss: 1.1711 - val_accuracy: 0.7198\n",
            "Epoch 45/50\n",
            "313/313 [==============================] - 4s 13ms/step - loss: 0.4108 - accuracy: 0.8560 - val_loss: 1.1923 - val_accuracy: 0.7256\n",
            "Epoch 46/50\n",
            "313/313 [==============================] - 3s 10ms/step - loss: 0.4012 - accuracy: 0.8601 - val_loss: 1.1639 - val_accuracy: 0.7283\n",
            "Epoch 47/50\n",
            "313/313 [==============================] - 3s 11ms/step - loss: 0.3970 - accuracy: 0.8613 - val_loss: 1.1947 - val_accuracy: 0.7250\n",
            "Epoch 48/50\n",
            "313/313 [==============================] - 3s 11ms/step - loss: 0.4030 - accuracy: 0.8597 - val_loss: 1.2238 - val_accuracy: 0.7206\n",
            "Epoch 49/50\n",
            "313/313 [==============================] - 4s 13ms/step - loss: 0.3849 - accuracy: 0.8648 - val_loss: 1.2246 - val_accuracy: 0.7132\n",
            "Epoch 50/50\n",
            "313/313 [==============================] - 4s 11ms/step - loss: 0.3969 - accuracy: 0.8637 - val_loss: 1.2414 - val_accuracy: 0.7260\n"
          ]
        }
      ]
    },
    {
      "cell_type": "code",
      "source": [
        "plt.plot(results.history[\"loss\"], label=\"loss\")\n",
        "plt.plot(results.history[\"val_loss\"], label=\"val_loss\")\n",
        "plt.xlabel(\"Epoch\")\n",
        "plt.ylabel(\"Loss\")\n",
        "plt.legend()\n",
        "plt.show()"
      ],
      "metadata": {
        "colab": {
          "base_uri": "https://localhost:8080/",
          "height": 279
        },
        "id": "hpncVd26rQaB",
        "outputId": "a58b89b0-b1b6-4a15-d872-abee6f503b39"
      },
      "execution_count": 20,
      "outputs": [
        {
          "output_type": "display_data",
          "data": {
            "text/plain": [
              "<Figure size 432x288 with 1 Axes>"
            ],
            "image/png": "[encoded data removed]"
          },
          "metadata": {
            "needs_background": "light"
          }
        }
      ]
    },
    {
      "cell_type": "code",
      "source": [
        "plt.plot(results.history[\"accuracy\"], label=\"accuracy\")\n",
        "plt.plot(results.history[\"val_accuracy\"], label=\"val_accuracy\")\n",
        "plt.xlabel(\"Epoch\")\n",
        "plt.ylabel(\"Accuracy\")\n",
        "plt.legend()\n",
        "plt.show()"
      ],
      "metadata": {
        "colab": {
          "base_uri": "https://localhost:8080/",
          "height": 279
        },
        "id": "VHFbMJgAr5wC",
        "outputId": "763ca2fb-b2f3-4ea6-f9a6-a5c59f1ee5a7"
      },
      "execution_count": 21,
      "outputs": [
        {
          "output_type": "display_data",
          "data": {
            "text/plain": [
              "<Figure size 432x288 with 1 Axes>"
            ],
            "image/png": "[encoded data removed]"
          },
          "metadata": {
            "needs_background": "light"
          }
        }
      ]
    },
    {
      "cell_type": "code",
      "source": [
        "model.evaluate(X_test, y_test)"
      ],
      "metadata": {
        "colab": {
          "base_uri": "https://localhost:8080/"
        },
        "id": "rWHMXJ_vsPzr",
        "outputId": "348f5d06-8c74-4594-da6d-e5a4dcb50f5a"
      },
      "execution_count": 22,
      "outputs": [
        {
          "output_type": "stream",
          "name": "stdout",
          "text": [
            "313/313 [==============================] - 1s 3ms/step - loss: 1.2744 - accuracy: 0.7249\n"
          ]
        },
        {
          "output_type": "execute_result",
          "data": {
            "text/plain": [
              "[1.2744438648223877, 0.7249000072479248]"
            ]
          },
          "metadata": {},
          "execution_count": 22
        }
      ]
    },
    {
      "cell_type": "code",
      "source": [
        "prediction_result = model.predict(X_test[789].reshape(1,32,32,3))\n",
        "print(prediction_result)"
      ],
      "metadata": {
        "colab": {
          "base_uri": "https://localhost:8080/"
        },
        "id": "fic1ACBksbAD",
        "outputId": "8a166e36-eb15-4fe1-cb75-5ffb2b29c59c"
      },
      "execution_count": 23,
      "outputs": [
        {
          "output_type": "stream",
          "name": "stdout",
          "text": [
            "[[7.0474438e-05 2.3509793e-11 1.4178354e-14 1.4822984e-17 2.1885835e-23\n",
            "  2.9688936e-24 1.4974560e-17 2.8146933e-22 9.9992955e-01 4.1692578e-12]]\n"
          ]
        }
      ]
    },
    {
      "cell_type": "code",
      "source": [
        "predicted_class = prediction_result.argmax()\n",
        "predicted_probability = prediction_result.max()"
      ],
      "metadata": {
        "id": "v7q405POs6of"
      },
      "execution_count": 24,
      "outputs": []
    },
    {
      "cell_type": "code",
      "source": [
        "print(f\"This image belongs to class {predicted_class} with {predicted_probability} probability.\")"
      ],
      "metadata": {
        "colab": {
          "base_uri": "https://localhost:8080/"
        },
        "id": "jKxM0m1KtPWs",
        "outputId": "09e0a930-23f6-4595-8b3a-291d2746f9e8"
      },
      "execution_count": 25,
      "outputs": [
        {
          "output_type": "stream",
          "name": "stdout",
          "text": [
            "This image belongs to class 8 with 0.9999295473098755 probability.\n"
          ]
        }
      ]
    }
  ]
}